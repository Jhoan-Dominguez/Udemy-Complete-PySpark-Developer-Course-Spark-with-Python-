{
 "cells": [
  {
   "cell_type": "code",
   "execution_count": 8,
   "metadata": {},
   "outputs": [],
   "source": [
    "import findspark\n",
    "findspark.init('/home/jhoand/spark-3.2.1-bin-hadoop3.2/')\n",
    "from pyspark.sql import SparkSession\n",
    "spark = SparkSession.builder.appName('test').getOrCreate()\n",
    "sc = spark.sparkContext\n",
    "\n",
    "def print_function(rdd, num = 10):\n",
    "    for i in rdd.take(num): print(i)\n",
    "    print('\\n')"
   ]
  },
  {
   "cell_type": "code",
   "execution_count": 9,
   "metadata": {},
   "outputs": [],
   "source": [
    "ord      = sc.textFile('/home/jhoand/course/RDD-operations/text-fields/PracticeFiles/Orders/part-00000.txt')\n",
    "ordItems = sc.textFile('/home/jhoand/course/RDD-operations/text-fields/PracticeFiles/Order_items/part-00000.txt')"
   ]
  },
  {
   "cell_type": "code",
   "execution_count": 10,
   "metadata": {},
   "outputs": [
    {
     "name": "stdout",
     "output_type": "stream",
     "text": [
      "1,2013-07-25 00:00:00.0,11599,CLOSED\n",
      "2,2013-07-25 00:00:00.0,256,PENDING_PAYMENT\n",
      "3,2013-07-25 00:00:00.0,12111,COMPLETE\n",
      "4,2013-07-25 00:00:00.0,8827,CLOSED\n",
      "5,2013-07-25 00:00:00.0,11318,COMPLETE\n",
      "6,2013-07-25 00:00:00.0,7130,COMPLETE\n",
      "7,2013-07-25 00:00:00.0,4530,COMPLETE\n",
      "8,2013-07-25 00:00:00.0,2911,PROCESSING\n",
      "9,2013-07-25 00:00:00.0,5657,PENDING_PAYMENT\n",
      "10,2013-07-25 00:00:00.0,5648,PENDING_PAYMENT\n",
      "\n",
      "\n",
      "1,1,957,1,299.98,299.98\n",
      "2,2,1073,1,199.99,199.99\n",
      "3,2,502,5,250.0,50.0\n",
      "4,2,403,1,129.99,129.99\n",
      "5,4,897,2,49.98,24.99\n",
      "6,4,365,5,299.95,59.99\n",
      "7,4,502,3,150.0,50.0\n",
      "8,4,1014,4,199.92,49.98\n",
      "9,5,957,1,299.98,299.98\n",
      "10,5,365,5,299.95,59.99\n",
      "\n",
      "\n"
     ]
    }
   ],
   "source": [
    "print_function(ord)\n",
    "print_function(ordItems)\n"
   ]
  },
  {
   "cell_type": "code",
   "execution_count": 11,
   "metadata": {},
   "outputs": [
    {
     "name": "stdout",
     "output_type": "stream",
     "text": [
      "('1', '11599')\n",
      "('2', '256')\n",
      "('3', '12111')\n",
      "('4', '8827')\n",
      "('5', '11318')\n",
      "('6', '7130')\n",
      "('7', '4530')\n",
      "('8', '2911')\n",
      "('9', '5657')\n",
      "('10', '5648')\n",
      "\n",
      "\n"
     ]
    }
   ],
   "source": [
    "ordMap = ord.map(lambda x: (x.split(',')[0], x.split(',')[2]))\n",
    "print_function(ordMap)"
   ]
  },
  {
   "cell_type": "code",
   "execution_count": 12,
   "metadata": {},
   "outputs": [
    {
     "name": "stdout",
     "output_type": "stream",
     "text": [
      "('1', '299.98')\n",
      "('2', '199.99')\n",
      "('2', '250.0')\n",
      "('2', '129.99')\n",
      "('4', '49.98')\n",
      "('4', '299.95')\n",
      "('4', '150.0')\n",
      "('4', '199.92')\n",
      "('5', '299.98')\n",
      "('5', '299.95')\n",
      "\n",
      "\n"
     ]
    }
   ],
   "source": [
    "ordItemsMap = ordItems.map(lambda x: (x.split(',')[1], x.split(',')[4]))\n",
    "print_function(ordItemsMap)"
   ]
  },
  {
   "cell_type": "code",
   "execution_count": 13,
   "metadata": {},
   "outputs": [
    {
     "name": "stdout",
     "output_type": "stream",
     "text": [
      "('4', ('8827', '49.98'))\n",
      "('4', ('8827', '299.95'))\n",
      "('4', ('8827', '150.0'))\n",
      "('4', ('8827', '199.92'))\n",
      "('10', ('5648', '199.99'))\n",
      "('10', ('5648', '99.96'))\n",
      "('10', ('5648', '129.99'))\n",
      "('10', ('5648', '21.99'))\n",
      "('10', ('5648', '199.99'))\n",
      "('12', ('1837', '299.98'))\n",
      "\n",
      "\n"
     ]
    }
   ],
   "source": [
    "findSubtototalForCust = ordMap.join(ordItemsMap)\n",
    "print_function(findSubtototalForCust)"
   ]
  },
  {
   "cell_type": "code",
   "execution_count": 14,
   "metadata": {},
   "outputs": [
    {
     "data": {
      "text/plain": [
       "('8827', '49.98')"
      ]
     },
     "execution_count": 14,
     "metadata": {},
     "output_type": "execute_result"
    }
   ],
   "source": [
    "findSubtototalForCust.map(lambda x: x[1]).first()"
   ]
  }
 ],
 "metadata": {
  "interpreter": {
   "hash": "ee5e114d00dad767c9cef896dbbd102a536a96b9c8958ddb91d5dedd202a1fc8"
  },
  "kernelspec": {
   "display_name": "Python 3.6.9 ('venv': venv)",
   "language": "python",
   "name": "python3"
  },
  "language_info": {
   "codemirror_mode": {
    "name": "ipython",
    "version": 3
   },
   "file_extension": ".py",
   "mimetype": "text/x-python",
   "name": "python",
   "nbconvert_exporter": "python",
   "pygments_lexer": "ipython3",
   "version": "3.6.9"
  },
  "orig_nbformat": 4
 },
 "nbformat": 4,
 "nbformat_minor": 2
}
