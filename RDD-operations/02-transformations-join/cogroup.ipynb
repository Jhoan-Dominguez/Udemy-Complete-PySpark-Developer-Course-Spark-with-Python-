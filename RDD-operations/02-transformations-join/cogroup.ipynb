{
 "cells": [
  {
   "cell_type": "code",
   "execution_count": 18,
   "metadata": {},
   "outputs": [],
   "source": [
    "import findspark\n",
    "findspark.init('/home/jhoand/spark-3.2.1-bin-hadoop3.2/')\n",
    "from pyspark.sql import SparkSession\n",
    "spark = SparkSession.builder.appName('test').getOrCreate()\n",
    "sc = spark.sparkContext\n",
    "\n",
    "def print_function(rdd, num = 10):\n",
    "    for i in rdd.take(num): print(i)\n",
    "    print('\\n')"
   ]
  },
  {
   "cell_type": "code",
   "execution_count": 19,
   "metadata": {},
   "outputs": [],
   "source": [
    "x = sc.parallelize([('a', 1), ('b', 4)])\n",
    "y = sc.parallelize([('a', 2)])"
   ]
  },
  {
   "cell_type": "code",
   "execution_count": 20,
   "metadata": {},
   "outputs": [
    {
     "data": {
      "text/plain": [
       "('b',\n",
       " (<pyspark.resultiterable.ResultIterable at 0x7f2f428113c8>,\n",
       "  <pyspark.resultiterable.ResultIterable at 0x7f2f428171d0>))"
      ]
     },
     "execution_count": 20,
     "metadata": {},
     "output_type": "execute_result"
    }
   ],
   "source": [
    "xy = x.cogroup(y)\n",
    "xy.first()"
   ]
  },
  {
   "cell_type": "code",
   "execution_count": 21,
   "metadata": {},
   "outputs": [
    {
     "name": "stdout",
     "output_type": "stream",
     "text": [
      "('b', (<pyspark.resultiterable.ResultIterable object at 0x7f2f42828518>, <pyspark.resultiterable.ResultIterable object at 0x7f2f42828630>))\n",
      "('a', (<pyspark.resultiterable.ResultIterable object at 0x7f2f42828f60>, <pyspark.resultiterable.ResultIterable object at 0x7f2f4282b0b8>))\n",
      "\n",
      "\n"
     ]
    }
   ],
   "source": [
    "print_function(xy, 2)"
   ]
  },
  {
   "cell_type": "code",
   "execution_count": 26,
   "metadata": {},
   "outputs": [
    {
     "name": "stdout",
     "output_type": "stream",
     "text": [
      "b <map object at 0x7f2f42828940>\n",
      "a <map object at 0x7f2f42828eb8>\n"
     ]
    }
   ],
   "source": [
    "for i,j in xy.take(2): print(i, map(list, j))"
   ]
  }
 ],
 "metadata": {
  "interpreter": {
   "hash": "ee5e114d00dad767c9cef896dbbd102a536a96b9c8958ddb91d5dedd202a1fc8"
  },
  "kernelspec": {
   "display_name": "Python 3.6.9 ('venv': venv)",
   "language": "python",
   "name": "python3"
  },
  "language_info": {
   "codemirror_mode": {
    "name": "ipython",
    "version": 3
   },
   "file_extension": ".py",
   "mimetype": "text/x-python",
   "name": "python",
   "nbconvert_exporter": "python",
   "pygments_lexer": "ipython3",
   "version": "3.6.9"
  },
  "orig_nbformat": 4
 },
 "nbformat": 4,
 "nbformat_minor": 2
}
