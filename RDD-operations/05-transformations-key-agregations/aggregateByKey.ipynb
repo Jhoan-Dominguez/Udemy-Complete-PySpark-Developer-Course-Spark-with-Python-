{
 "cells": [
  {
   "cell_type": "code",
   "execution_count": 19,
   "metadata": {},
   "outputs": [],
   "source": [
    "import findspark\n",
    "findspark.init('/home/jhoand/spark-3.2.1-bin-hadoop3.2/')\n",
    "from pyspark.sql import SparkSession\n",
    "spark = SparkSession.builder.appName('test').getOrCreate()\n",
    "sc = spark.sparkContext\n",
    "\n",
    "def print_function(rdd, num = 10):\n",
    "    for i in rdd.take(num): print(i)\n",
    "    print('\\n')"
   ]
  },
  {
   "cell_type": "code",
   "execution_count": 20,
   "metadata": {},
   "outputs": [
    {
     "name": "stdout",
     "output_type": "stream",
     "text": [
      "(2, ('name1', 200))\n",
      "(2, ('name2', 250))\n",
      "(2, ('name3', 130))\n",
      "(4, ('name4', 50))\n",
      "(4, ('name5', 300))\n",
      "\n",
      "\n"
     ]
    }
   ],
   "source": [
    "ordItems = sc.parallelize([\n",
    "    (2, 'name1', 200), (2, 'name2', 250), (2, 'name3', 130), (4, 'name4', 50), (4, 'name5', 300), (4, 'name6', 150), (4, 'name7', 200),(7, 'name8', 200)\n",
    "    ,(7, 'name9', 200),(7, 'name10', 200)\n",
    "], 2)\n",
    "\n",
    "ordPair = ordItems.map(lambda x: (x[0], (x[1], x[2]) ))\n",
    "print_function(ordPair, 5)"
   ]
  },
  {
   "cell_type": "code",
   "execution_count": 21,
   "metadata": {},
   "outputs": [
    {
     "name": "stdout",
     "output_type": "stream",
     "text": [
      "(2, 250)\n",
      "(4, 300)\n",
      "(7, 200)\n",
      "\n",
      "\n"
     ]
    }
   ],
   "source": [
    "zero_val = 0\n",
    "\n",
    "def seq_op( acc, elem):\n",
    "    if (acc > elem[1]):\n",
    "        return acc\n",
    "    else:\n",
    "        return elem[1]\n",
    "\n",
    "def comb_op(acc1, acc2):\n",
    "    if(acc1 > acc2):\n",
    "        return acc1\n",
    "    else:\n",
    "        return acc2\n",
    "\n",
    "aggr_ordItems = ordPair.aggregateByKey(zero_val, seq_op, comb_op)\n",
    "print_function(aggr_ordItems, 3)"
   ]
  },
  {
   "cell_type": "code",
   "execution_count": 22,
   "metadata": {},
   "outputs": [
    {
     "name": "stdout",
     "output_type": "stream",
     "text": [
      "(2, ('name2', 250))\n",
      "(4, ('name5', 300))\n",
      "(7, ('name10', 200))\n",
      "\n",
      "\n"
     ]
    }
   ],
   "source": [
    "zero_val = ('', 0)\n",
    "\n",
    "def seq_op( acc, elem):\n",
    "    if (acc[1] > elem[1]):\n",
    "        return acc\n",
    "    else:\n",
    "        return elem\n",
    "\n",
    "def comb_op(acc1, acc2):\n",
    "    if(acc1[1] > acc2[1]):\n",
    "        return acc1\n",
    "    else:\n",
    "        return acc2\n",
    "\n",
    "aggr_ordItems2 = ordPair.aggregateByKey(zero_val, seq_op, comb_op)\n",
    "print_function(aggr_ordItems2, 3)"
   ]
  },
  {
   "cell_type": "code",
   "execution_count": 24,
   "metadata": {},
   "outputs": [
    {
     "name": "stdout",
     "output_type": "stream",
     "text": [
      "(2, (580, 3))\n",
      "(4, (700, 4))\n",
      "(7, (600, 3))\n",
      "\n",
      "\n"
     ]
    }
   ],
   "source": [
    "zero_val = (0, 0)\n",
    "\n",
    "def seq_op( acc, elem):\n",
    "    return (acc[0] + elem[1], acc[1] + 1)\n",
    "\n",
    "def comb_op(acc1, acc2):\n",
    "    return (acc1[0] + acc2[0], acc1[1] + acc2[1])\n",
    "\n",
    "aggr_ordItems3 = ordPair.aggregateByKey(zero_val, seq_op, comb_op)\n",
    "print_function(aggr_ordItems3, 3)"
   ]
  }
 ],
 "metadata": {
  "interpreter": {
   "hash": "ee5e114d00dad767c9cef896dbbd102a536a96b9c8958ddb91d5dedd202a1fc8"
  },
  "kernelspec": {
   "display_name": "Python 3.6.9 ('venv': venv)",
   "language": "python",
   "name": "python3"
  },
  "language_info": {
   "codemirror_mode": {
    "name": "ipython",
    "version": 3
   },
   "file_extension": ".py",
   "mimetype": "text/x-python",
   "name": "python",
   "nbconvert_exporter": "python",
   "pygments_lexer": "ipython3",
   "version": "3.6.9"
  },
  "orig_nbformat": 4
 },
 "nbformat": 4,
 "nbformat_minor": 2
}
