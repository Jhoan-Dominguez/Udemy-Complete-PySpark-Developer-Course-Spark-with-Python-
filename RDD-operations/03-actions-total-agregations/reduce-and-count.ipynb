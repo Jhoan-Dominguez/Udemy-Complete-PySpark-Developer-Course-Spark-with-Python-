{
 "cells": [
  {
   "cell_type": "code",
   "execution_count": 15,
   "metadata": {},
   "outputs": [],
   "source": [
    "import findspark\n",
    "findspark.init('/home/jhoand/spark-3.2.1-bin-hadoop3.2/')\n",
    "from pyspark.sql import SparkSession\n",
    "spark = SparkSession.builder.appName('test').getOrCreate()\n",
    "sc = spark.sparkContext\n",
    "\n",
    "def print_function(rdd, num = 10):\n",
    "    for i in rdd.take(num): print(i)\n",
    "    print('\\n')"
   ]
  },
  {
   "cell_type": "code",
   "execution_count": 16,
   "metadata": {},
   "outputs": [],
   "source": [
    "ord      = sc.textFile('/home/jhoand/course/RDD-operations/text-fields/PracticeFiles/Orders')\n",
    "ordItems = sc.textFile('/home/jhoand/course/RDD-operations/text-fields/PracticeFiles/Order_items/part-00000.txt')"
   ]
  },
  {
   "cell_type": "code",
   "execution_count": 18,
   "metadata": {},
   "outputs": [
    {
     "data": {
      "text/plain": [
       "7556"
      ]
     },
     "execution_count": 18,
     "metadata": {},
     "output_type": "execute_result"
    }
   ],
   "source": [
    "ord.filter(lambda x: x.split(',')[3] == 'CLOSED').count()"
   ]
  },
  {
   "cell_type": "code",
   "execution_count": 22,
   "metadata": {},
   "outputs": [
    {
     "data": {
      "text/plain": [
       "62"
      ]
     },
     "execution_count": 22,
     "metadata": {},
     "output_type": "execute_result"
    }
   ],
   "source": [
    "ordItems.filter(lambda x: int(x.split(',')[1]) < 11 ).map(lambda x: int(x.split(',')[3])).reduce(lambda x,y : x + y)"
   ]
  },
  {
   "cell_type": "code",
   "execution_count": null,
   "metadata": {},
   "outputs": [],
   "source": []
  }
 ],
 "metadata": {
  "interpreter": {
   "hash": "ee5e114d00dad767c9cef896dbbd102a536a96b9c8958ddb91d5dedd202a1fc8"
  },
  "kernelspec": {
   "display_name": "Python 3.6.9 ('venv': venv)",
   "language": "python",
   "name": "python3"
  },
  "language_info": {
   "codemirror_mode": {
    "name": "ipython",
    "version": 3
   },
   "file_extension": ".py",
   "mimetype": "text/x-python",
   "name": "python",
   "nbconvert_exporter": "python",
   "pygments_lexer": "ipython3",
   "version": "3.6.9"
  },
  "orig_nbformat": 4
 },
 "nbformat": 4,
 "nbformat_minor": 2
}
