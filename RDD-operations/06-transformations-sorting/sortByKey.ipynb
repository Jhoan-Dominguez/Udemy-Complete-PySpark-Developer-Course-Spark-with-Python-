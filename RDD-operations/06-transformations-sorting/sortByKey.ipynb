{
 "cells": [
  {
   "cell_type": "code",
   "execution_count": 1,
   "metadata": {},
   "outputs": [
    {
     "name": "stderr",
     "output_type": "stream",
     "text": [
      "/home/jhoand/spark-3.2.1-bin-hadoop3.2/python/pyspark/context.py:238: FutureWarning: Python 3.6 support is deprecated in Spark 3.2.\n",
      "  FutureWarning\n"
     ]
    }
   ],
   "source": [
    "import findspark\n",
    "findspark.init('/home/jhoand/spark-3.2.1-bin-hadoop3.2/')\n",
    "from pyspark.sql import SparkSession\n",
    "spark = SparkSession.builder.appName('test').getOrCreate()\n",
    "sc = spark.sparkContext\n",
    "\n",
    "def print_function(rdd, num = 10):\n",
    "    for i in rdd.take(num): print(i)\n",
    "    print('\\n')"
   ]
  },
  {
   "cell_type": "code",
   "execution_count": 2,
   "metadata": {},
   "outputs": [
    {
     "name": "stdout",
     "output_type": "stream",
     "text": [
      "(11599, '1,2013-07-25 00:00:00.0,11599,CLOSED')\n",
      "(256, '2,2013-07-25 00:00:00.0,256,PENDING_PAYMENT')\n",
      "(12111, '3,2013-07-25 00:00:00.0,12111,COMPLETE')\n",
      "(8827, '4,2013-07-25 00:00:00.0,8827,CLOSED')\n",
      "(11318, '5,2013-07-25 00:00:00.0,11318,COMPLETE')\n",
      "(7130, '6,2013-07-25 00:00:00.0,7130,COMPLETE')\n",
      "(4530, '7,2013-07-25 00:00:00.0,4530,COMPLETE')\n",
      "(2911, '8,2013-07-25 00:00:00.0,2911,PROCESSING')\n",
      "(5657, '9,2013-07-25 00:00:00.0,5657,PENDING_PAYMENT')\n",
      "(5648, '10,2013-07-25 00:00:00.0,5648,PENDING_PAYMENT')\n",
      "\n",
      "\n"
     ]
    }
   ],
   "source": [
    "ord = sc.textFile('/home/jhoand/course/RDD-operations/text-fields/PracticeFiles/Orders')\n",
    "ordPair = ord.map(lambda x: (int(x.split(',')[2]), x))\n",
    "print_function(ordPair)"
   ]
  },
  {
   "cell_type": "code",
   "execution_count": 4,
   "metadata": {},
   "outputs": [
    {
     "name": "stdout",
     "output_type": "stream",
     "text": [
      "(1, '22945,2013-12-13 00:00:00.0,1,COMPLETE')\n",
      "(2, '15192,2013-10-29 00:00:00.0,2,PENDING_PAYMENT')\n",
      "(2, '33865,2014-02-18 00:00:00.0,2,COMPLETE')\n",
      "(2, '57963,2013-08-02 00:00:00.0,2,ON_HOLD')\n",
      "(2, '67863,2013-11-30 00:00:00.0,2,COMPLETE')\n",
      "(3, '22646,2013-12-11 00:00:00.0,3,COMPLETE')\n",
      "(3, '23662,2013-12-19 00:00:00.0,3,COMPLETE')\n",
      "(3, '35158,2014-02-26 00:00:00.0,3,COMPLETE')\n",
      "(3, '46399,2014-05-09 00:00:00.0,3,PROCESSING')\n",
      "(3, '56178,2014-07-15 00:00:00.0,3,PENDING')\n",
      "\n",
      "\n"
     ]
    }
   ],
   "source": [
    "ordSort = ordPair.sortByKey(ascending=True)\n",
    "print_function(ordSort)"
   ]
  },
  {
   "cell_type": "code",
   "execution_count": null,
   "metadata": {},
   "outputs": [],
   "source": []
  }
 ],
 "metadata": {
  "interpreter": {
   "hash": "ee5e114d00dad767c9cef896dbbd102a536a96b9c8958ddb91d5dedd202a1fc8"
  },
  "kernelspec": {
   "display_name": "Python 3.6.9 ('venv': venv)",
   "language": "python",
   "name": "python3"
  },
  "language_info": {
   "codemirror_mode": {
    "name": "ipython",
    "version": 3
   },
   "file_extension": ".py",
   "mimetype": "text/x-python",
   "name": "python",
   "nbconvert_exporter": "python",
   "pygments_lexer": "ipython3",
   "version": "3.6.9"
  },
  "orig_nbformat": 4
 },
 "nbformat": 4,
 "nbformat_minor": 2
}
