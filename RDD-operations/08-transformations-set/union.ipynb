{
 "cells": [
  {
   "cell_type": "code",
   "execution_count": 1,
   "metadata": {},
   "outputs": [
    {
     "name": "stderr",
     "output_type": "stream",
     "text": [
      "/home/jhoand/spark-3.2.1-bin-hadoop3.2/python/pyspark/context.py:238: FutureWarning: Python 3.6 support is deprecated in Spark 3.2.\n",
      "  FutureWarning\n"
     ]
    }
   ],
   "source": [
    "import findspark\n",
    "findspark.init('/home/jhoand/spark-3.2.1-bin-hadoop3.2/')\n",
    "from pyspark.sql import SparkSession\n",
    "spark = SparkSession.builder.appName('test').getOrCreate()\n",
    "sc = spark.sparkContext\n",
    "\n",
    "def print_function(rdd, num = 10):\n",
    "    for i in rdd.take(num): print(i)\n",
    "    print('\\n')"
   ]
  },
  {
   "cell_type": "code",
   "execution_count": 4,
   "metadata": {},
   "outputs": [
    {
     "name": "stdout",
     "output_type": "stream",
     "text": [
      "1,2013-07-25 00:00:00.0,11599,CLOSED\n",
      "2,2013-07-25 00:00:00.0,256,PENDING_PAYMENT\n",
      "3,2013-07-25 00:00:00.0,12111,COMPLETE\n",
      "4,2013-07-25 00:00:00.0,8827,CLOSED\n",
      "5,2013-07-25 00:00:00.0,11318,COMPLETE\n",
      "6,2013-07-25 00:00:00.0,7130,COMPLETE\n",
      "7,2013-07-25 00:00:00.0,4530,COMPLETE\n",
      "8,2013-07-25 00:00:00.0,2911,PROCESSING\n",
      "9,2013-07-25 00:00:00.0,5657,PENDING_PAYMENT\n",
      "10,2013-07-25 00:00:00.0,5648,PENDING_PAYMENT\n",
      "\n",
      "\n"
     ]
    }
   ],
   "source": [
    "ord = sc.textFile('/home/jhoand/course/RDD-operations/text-fields/PracticeFiles/Orders')\n",
    "print_function(ord)"
   ]
  },
  {
   "cell_type": "code",
   "execution_count": 8,
   "metadata": {},
   "outputs": [
    {
     "name": "stdout",
     "output_type": "stream",
     "text": [
      "11599\n",
      "256\n",
      "12111\n",
      "8827\n",
      "11318\n",
      "7130\n",
      "4530\n",
      "2911\n",
      "5657\n",
      "5648\n",
      "\n",
      "\n"
     ]
    },
    {
     "data": {
      "text/plain": [
       "6001"
      ]
     },
     "execution_count": 8,
     "metadata": {},
     "output_type": "execute_result"
    }
   ],
   "source": [
    "julyOrd = ord.filter( lambda x: ( x.split(',')[1].split('-')[1] ) == '07' ).map(lambda x: x.split(',')[2])\n",
    "print_function(julyOrd)\n",
    "julyOrd.count()"
   ]
  },
  {
   "cell_type": "code",
   "execution_count": 9,
   "metadata": {},
   "outputs": [
    {
     "name": "stdout",
     "output_type": "stream",
     "text": [
      "11607\n",
      "5105\n",
      "7802\n",
      "553\n",
      "1604\n",
      "1695\n",
      "7018\n",
      "2059\n",
      "3844\n",
      "11672\n",
      "\n",
      "\n"
     ]
    },
    {
     "data": {
      "text/plain": [
       "5680"
      ]
     },
     "execution_count": 9,
     "metadata": {},
     "output_type": "execute_result"
    }
   ],
   "source": [
    "AugustOrd = ord.filter( lambda x: ( x.split(',')[1].split('-')[1] ) == '08' ).map(lambda x: x.split(',')[2])\n",
    "print_function(AugustOrd)\n",
    "AugustOrd.count()"
   ]
  },
  {
   "cell_type": "code",
   "execution_count": 10,
   "metadata": {},
   "outputs": [
    {
     "data": {
      "text/plain": [
       "11681"
      ]
     },
     "execution_count": 10,
     "metadata": {},
     "output_type": "execute_result"
    }
   ],
   "source": [
    "julyOrd.union(AugustOrd).count()"
   ]
  },
  {
   "cell_type": "code",
   "execution_count": 11,
   "metadata": {},
   "outputs": [
    {
     "data": {
      "text/plain": [
       "7633"
      ]
     },
     "execution_count": 11,
     "metadata": {},
     "output_type": "execute_result"
    }
   ],
   "source": [
    "julyOrd.union(AugustOrd).distinct().count()"
   ]
  }
 ],
 "metadata": {
  "interpreter": {
   "hash": "ee5e114d00dad767c9cef896dbbd102a536a96b9c8958ddb91d5dedd202a1fc8"
  },
  "kernelspec": {
   "display_name": "Python 3.6.9 ('venv': venv)",
   "language": "python",
   "name": "python3"
  },
  "language_info": {
   "codemirror_mode": {
    "name": "ipython",
    "version": 3
   },
   "file_extension": ".py",
   "mimetype": "text/x-python",
   "name": "python",
   "nbconvert_exporter": "python",
   "pygments_lexer": "ipython3",
   "version": "3.6.9"
  },
  "orig_nbformat": 4
 },
 "nbformat": 4,
 "nbformat_minor": 2
}
