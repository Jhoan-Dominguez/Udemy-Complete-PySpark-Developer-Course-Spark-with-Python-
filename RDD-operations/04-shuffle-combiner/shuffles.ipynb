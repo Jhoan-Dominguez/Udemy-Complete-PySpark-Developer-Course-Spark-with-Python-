{
 "cells": [
  {
   "cell_type": "code",
   "execution_count": 1,
   "metadata": {},
   "outputs": [
    {
     "name": "stderr",
     "output_type": "stream",
     "text": [
      "/home/jhoand/spark-3.2.1-bin-hadoop3.2/python/pyspark/context.py:238: FutureWarning: Python 3.6 support is deprecated in Spark 3.2.\n",
      "  FutureWarning\n"
     ]
    }
   ],
   "source": [
    "import findspark\n",
    "findspark.init('/home/jhoand/spark-3.2.1-bin-hadoop3.2/')\n",
    "from pyspark.sql import SparkSession\n",
    "spark = SparkSession.builder.appName('test').getOrCreate()\n",
    "sc = spark.sparkContext\n",
    "\n",
    "def print_function(rdd, num = 10):\n",
    "    for i in rdd.take(num): print(i)\n",
    "    print('\\n')"
   ]
  },
  {
   "cell_type": "code",
   "execution_count": 2,
   "metadata": {},
   "outputs": [],
   "source": [
    "rdd = sc.parallelize([1,2,3])\n",
    "rdd1 = rdd.distinct()"
   ]
  },
  {
   "cell_type": "code",
   "execution_count": 3,
   "metadata": {},
   "outputs": [
    {
     "name": "stdout",
     "output_type": "stream",
     "text": [
      "b'(8) PythonRDD[5] at RDD at PythonRDD.scala:53 []\\n |  MapPartitionsRDD[4] at mapPartitions at PythonRDD.scala:145 []\\n |  ShuffledRDD[3] at partitionBy at NativeMethodAccessorImpl.java:0 []\\n +-(8) PairwiseRDD[2] at distinct at <ipython-input-2-272b57327e10>:2 []\\n    |  PythonRDD[1] at distinct at <ipython-input-2-272b57327e10>:2 []\\n    |  ParallelCollectionRDD[0] at readRDDFromFile at PythonRDD.scala:274 []'\n"
     ]
    }
   ],
   "source": [
    "print(rdd1.toDebugString())"
   ]
  }
 ],
 "metadata": {
  "interpreter": {
   "hash": "ee5e114d00dad767c9cef896dbbd102a536a96b9c8958ddb91d5dedd202a1fc8"
  },
  "kernelspec": {
   "display_name": "Python 3.6.9 ('venv': venv)",
   "language": "python",
   "name": "python3"
  },
  "language_info": {
   "codemirror_mode": {
    "name": "ipython",
    "version": 3
   },
   "file_extension": ".py",
   "mimetype": "text/x-python",
   "name": "python",
   "nbconvert_exporter": "python",
   "pygments_lexer": "ipython3",
   "version": "3.6.9"
  },
  "orig_nbformat": 4
 },
 "nbformat": 4,
 "nbformat_minor": 2
}
